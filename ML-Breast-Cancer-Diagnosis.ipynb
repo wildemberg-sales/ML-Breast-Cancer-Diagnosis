{
 "cells": [
  {
   "cell_type": "markdown",
   "metadata": {},
   "source": [
    "# Modelo Classificador para identificação de Câncer de Mama baseado em imagens disponibilizadas pela biblioteca da SkLean Diagnostic Wisconsin Breast Cancer Database."
   ]
  }
 ],
 "metadata": {
  "language_info": {
   "name": "python"
  }
 },
 "nbformat": 4,
 "nbformat_minor": 2
}
